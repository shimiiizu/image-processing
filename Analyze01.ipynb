{
  "nbformat": 4,
  "nbformat_minor": 0,
  "metadata": {
    "colab": {
      "name": "Analyze01.ipynb",
      "version": "0.3.2",
      "provenance": [],
      "include_colab_link": true
    },
    "kernelspec": {
      "name": "python3",
      "display_name": "Python 3"
    }
  },
  "cells": [
    {
      "cell_type": "markdown",
      "metadata": {
        "id": "view-in-github",
        "colab_type": "text"
      },
      "source": [
        "<a href=\"https://colab.research.google.com/github/shimiiizu/image-processing/blob/master/Analyze01.ipynb\" target=\"_parent\"><img src=\"https://colab.research.google.com/assets/colab-badge.svg\" alt=\"Open In Colab\"/></a>"
      ]
    },
    {
      "cell_type": "code",
      "metadata": {
        "id": "S9LXKBI5w9l3",
        "colab_type": "code",
        "colab": {}
      },
      "source": [
        "import pandas as pd\n",
        "import matplotlib.pyplot as plt\n",
        "import matplotlib.dates as mdates"
      ],
      "execution_count": 0,
      "outputs": []
    },
    {
      "cell_type": "code",
      "metadata": {
        "id": "PFCUDYwdxLVt",
        "colab_type": "code",
        "outputId": "90bdb647-a1d1-469c-d55a-6f5569a21d88",
        "colab": {
          "base_uri": "https://localhost:8080/",
          "height": 411
        }
      },
      "source": [
        "df1 = pd.read_csv('/content/PL.csv', header=0, index_col=1, encoding='shift_jis')\n",
        "df1.head(3)"
      ],
      "execution_count": 0,
      "outputs": [
        {
          "output_type": "error",
          "ename": "FileNotFoundError",
          "evalue": "ignored",
          "traceback": [
            "\u001b[0;31m---------------------------------------------------------------------------\u001b[0m",
            "\u001b[0;31mFileNotFoundError\u001b[0m                         Traceback (most recent call last)",
            "\u001b[0;32m<ipython-input-2-9ca1ad93dfcb>\u001b[0m in \u001b[0;36m<module>\u001b[0;34m()\u001b[0m\n\u001b[0;32m----> 1\u001b[0;31m \u001b[0mdf1\u001b[0m \u001b[0;34m=\u001b[0m \u001b[0mpd\u001b[0m\u001b[0;34m.\u001b[0m\u001b[0mread_csv\u001b[0m\u001b[0;34m(\u001b[0m\u001b[0;34m'/content/PL.csv'\u001b[0m\u001b[0;34m,\u001b[0m \u001b[0mheader\u001b[0m\u001b[0;34m=\u001b[0m\u001b[0;36m0\u001b[0m\u001b[0;34m,\u001b[0m \u001b[0mindex_col\u001b[0m\u001b[0;34m=\u001b[0m\u001b[0;36m1\u001b[0m\u001b[0;34m,\u001b[0m \u001b[0mencoding\u001b[0m\u001b[0;34m=\u001b[0m\u001b[0;34m'shift_jis'\u001b[0m\u001b[0;34m)\u001b[0m\u001b[0;34m\u001b[0m\u001b[0;34m\u001b[0m\u001b[0m\n\u001b[0m\u001b[1;32m      2\u001b[0m \u001b[0mdf1\u001b[0m\u001b[0;34m.\u001b[0m\u001b[0mhead\u001b[0m\u001b[0;34m(\u001b[0m\u001b[0;36m3\u001b[0m\u001b[0;34m)\u001b[0m\u001b[0;34m\u001b[0m\u001b[0;34m\u001b[0m\u001b[0m\n",
            "\u001b[0;32m/usr/local/lib/python3.6/dist-packages/pandas/io/parsers.py\u001b[0m in \u001b[0;36mparser_f\u001b[0;34m(filepath_or_buffer, sep, delimiter, header, names, index_col, usecols, squeeze, prefix, mangle_dupe_cols, dtype, engine, converters, true_values, false_values, skipinitialspace, skiprows, skipfooter, nrows, na_values, keep_default_na, na_filter, verbose, skip_blank_lines, parse_dates, infer_datetime_format, keep_date_col, date_parser, dayfirst, iterator, chunksize, compression, thousands, decimal, lineterminator, quotechar, quoting, doublequote, escapechar, comment, encoding, dialect, tupleize_cols, error_bad_lines, warn_bad_lines, delim_whitespace, low_memory, memory_map, float_precision)\u001b[0m\n\u001b[1;32m    700\u001b[0m                     skip_blank_lines=skip_blank_lines)\n\u001b[1;32m    701\u001b[0m \u001b[0;34m\u001b[0m\u001b[0m\n\u001b[0;32m--> 702\u001b[0;31m         \u001b[0;32mreturn\u001b[0m \u001b[0m_read\u001b[0m\u001b[0;34m(\u001b[0m\u001b[0mfilepath_or_buffer\u001b[0m\u001b[0;34m,\u001b[0m \u001b[0mkwds\u001b[0m\u001b[0;34m)\u001b[0m\u001b[0;34m\u001b[0m\u001b[0;34m\u001b[0m\u001b[0m\n\u001b[0m\u001b[1;32m    703\u001b[0m \u001b[0;34m\u001b[0m\u001b[0m\n\u001b[1;32m    704\u001b[0m     \u001b[0mparser_f\u001b[0m\u001b[0;34m.\u001b[0m\u001b[0m__name__\u001b[0m \u001b[0;34m=\u001b[0m \u001b[0mname\u001b[0m\u001b[0;34m\u001b[0m\u001b[0;34m\u001b[0m\u001b[0m\n",
            "\u001b[0;32m/usr/local/lib/python3.6/dist-packages/pandas/io/parsers.py\u001b[0m in \u001b[0;36m_read\u001b[0;34m(filepath_or_buffer, kwds)\u001b[0m\n\u001b[1;32m    427\u001b[0m \u001b[0;34m\u001b[0m\u001b[0m\n\u001b[1;32m    428\u001b[0m     \u001b[0;31m# Create the parser.\u001b[0m\u001b[0;34m\u001b[0m\u001b[0;34m\u001b[0m\u001b[0;34m\u001b[0m\u001b[0m\n\u001b[0;32m--> 429\u001b[0;31m     \u001b[0mparser\u001b[0m \u001b[0;34m=\u001b[0m \u001b[0mTextFileReader\u001b[0m\u001b[0;34m(\u001b[0m\u001b[0mfilepath_or_buffer\u001b[0m\u001b[0;34m,\u001b[0m \u001b[0;34m**\u001b[0m\u001b[0mkwds\u001b[0m\u001b[0;34m)\u001b[0m\u001b[0;34m\u001b[0m\u001b[0;34m\u001b[0m\u001b[0m\n\u001b[0m\u001b[1;32m    430\u001b[0m \u001b[0;34m\u001b[0m\u001b[0m\n\u001b[1;32m    431\u001b[0m     \u001b[0;32mif\u001b[0m \u001b[0mchunksize\u001b[0m \u001b[0;32mor\u001b[0m \u001b[0miterator\u001b[0m\u001b[0;34m:\u001b[0m\u001b[0;34m\u001b[0m\u001b[0;34m\u001b[0m\u001b[0m\n",
            "\u001b[0;32m/usr/local/lib/python3.6/dist-packages/pandas/io/parsers.py\u001b[0m in \u001b[0;36m__init__\u001b[0;34m(self, f, engine, **kwds)\u001b[0m\n\u001b[1;32m    893\u001b[0m             \u001b[0mself\u001b[0m\u001b[0;34m.\u001b[0m\u001b[0moptions\u001b[0m\u001b[0;34m[\u001b[0m\u001b[0;34m'has_index_names'\u001b[0m\u001b[0;34m]\u001b[0m \u001b[0;34m=\u001b[0m \u001b[0mkwds\u001b[0m\u001b[0;34m[\u001b[0m\u001b[0;34m'has_index_names'\u001b[0m\u001b[0;34m]\u001b[0m\u001b[0;34m\u001b[0m\u001b[0;34m\u001b[0m\u001b[0m\n\u001b[1;32m    894\u001b[0m \u001b[0;34m\u001b[0m\u001b[0m\n\u001b[0;32m--> 895\u001b[0;31m         \u001b[0mself\u001b[0m\u001b[0;34m.\u001b[0m\u001b[0m_make_engine\u001b[0m\u001b[0;34m(\u001b[0m\u001b[0mself\u001b[0m\u001b[0;34m.\u001b[0m\u001b[0mengine\u001b[0m\u001b[0;34m)\u001b[0m\u001b[0;34m\u001b[0m\u001b[0;34m\u001b[0m\u001b[0m\n\u001b[0m\u001b[1;32m    896\u001b[0m \u001b[0;34m\u001b[0m\u001b[0m\n\u001b[1;32m    897\u001b[0m     \u001b[0;32mdef\u001b[0m \u001b[0mclose\u001b[0m\u001b[0;34m(\u001b[0m\u001b[0mself\u001b[0m\u001b[0;34m)\u001b[0m\u001b[0;34m:\u001b[0m\u001b[0;34m\u001b[0m\u001b[0;34m\u001b[0m\u001b[0m\n",
            "\u001b[0;32m/usr/local/lib/python3.6/dist-packages/pandas/io/parsers.py\u001b[0m in \u001b[0;36m_make_engine\u001b[0;34m(self, engine)\u001b[0m\n\u001b[1;32m   1120\u001b[0m     \u001b[0;32mdef\u001b[0m \u001b[0m_make_engine\u001b[0m\u001b[0;34m(\u001b[0m\u001b[0mself\u001b[0m\u001b[0;34m,\u001b[0m \u001b[0mengine\u001b[0m\u001b[0;34m=\u001b[0m\u001b[0;34m'c'\u001b[0m\u001b[0;34m)\u001b[0m\u001b[0;34m:\u001b[0m\u001b[0;34m\u001b[0m\u001b[0;34m\u001b[0m\u001b[0m\n\u001b[1;32m   1121\u001b[0m         \u001b[0;32mif\u001b[0m \u001b[0mengine\u001b[0m \u001b[0;34m==\u001b[0m \u001b[0;34m'c'\u001b[0m\u001b[0;34m:\u001b[0m\u001b[0;34m\u001b[0m\u001b[0;34m\u001b[0m\u001b[0m\n\u001b[0;32m-> 1122\u001b[0;31m             \u001b[0mself\u001b[0m\u001b[0;34m.\u001b[0m\u001b[0m_engine\u001b[0m \u001b[0;34m=\u001b[0m \u001b[0mCParserWrapper\u001b[0m\u001b[0;34m(\u001b[0m\u001b[0mself\u001b[0m\u001b[0;34m.\u001b[0m\u001b[0mf\u001b[0m\u001b[0;34m,\u001b[0m \u001b[0;34m**\u001b[0m\u001b[0mself\u001b[0m\u001b[0;34m.\u001b[0m\u001b[0moptions\u001b[0m\u001b[0;34m)\u001b[0m\u001b[0;34m\u001b[0m\u001b[0;34m\u001b[0m\u001b[0m\n\u001b[0m\u001b[1;32m   1123\u001b[0m         \u001b[0;32melse\u001b[0m\u001b[0;34m:\u001b[0m\u001b[0;34m\u001b[0m\u001b[0;34m\u001b[0m\u001b[0m\n\u001b[1;32m   1124\u001b[0m             \u001b[0;32mif\u001b[0m \u001b[0mengine\u001b[0m \u001b[0;34m==\u001b[0m \u001b[0;34m'python'\u001b[0m\u001b[0;34m:\u001b[0m\u001b[0;34m\u001b[0m\u001b[0;34m\u001b[0m\u001b[0m\n",
            "\u001b[0;32m/usr/local/lib/python3.6/dist-packages/pandas/io/parsers.py\u001b[0m in \u001b[0;36m__init__\u001b[0;34m(self, src, **kwds)\u001b[0m\n\u001b[1;32m   1851\u001b[0m         \u001b[0mkwds\u001b[0m\u001b[0;34m[\u001b[0m\u001b[0;34m'usecols'\u001b[0m\u001b[0;34m]\u001b[0m \u001b[0;34m=\u001b[0m \u001b[0mself\u001b[0m\u001b[0;34m.\u001b[0m\u001b[0musecols\u001b[0m\u001b[0;34m\u001b[0m\u001b[0;34m\u001b[0m\u001b[0m\n\u001b[1;32m   1852\u001b[0m \u001b[0;34m\u001b[0m\u001b[0m\n\u001b[0;32m-> 1853\u001b[0;31m         \u001b[0mself\u001b[0m\u001b[0;34m.\u001b[0m\u001b[0m_reader\u001b[0m \u001b[0;34m=\u001b[0m \u001b[0mparsers\u001b[0m\u001b[0;34m.\u001b[0m\u001b[0mTextReader\u001b[0m\u001b[0;34m(\u001b[0m\u001b[0msrc\u001b[0m\u001b[0;34m,\u001b[0m \u001b[0;34m**\u001b[0m\u001b[0mkwds\u001b[0m\u001b[0;34m)\u001b[0m\u001b[0;34m\u001b[0m\u001b[0;34m\u001b[0m\u001b[0m\n\u001b[0m\u001b[1;32m   1854\u001b[0m         \u001b[0mself\u001b[0m\u001b[0;34m.\u001b[0m\u001b[0munnamed_cols\u001b[0m \u001b[0;34m=\u001b[0m \u001b[0mself\u001b[0m\u001b[0;34m.\u001b[0m\u001b[0m_reader\u001b[0m\u001b[0;34m.\u001b[0m\u001b[0munnamed_cols\u001b[0m\u001b[0;34m\u001b[0m\u001b[0;34m\u001b[0m\u001b[0m\n\u001b[1;32m   1855\u001b[0m \u001b[0;34m\u001b[0m\u001b[0m\n",
            "\u001b[0;32mpandas/_libs/parsers.pyx\u001b[0m in \u001b[0;36mpandas._libs.parsers.TextReader.__cinit__\u001b[0;34m()\u001b[0m\n",
            "\u001b[0;32mpandas/_libs/parsers.pyx\u001b[0m in \u001b[0;36mpandas._libs.parsers.TextReader._setup_parser_source\u001b[0;34m()\u001b[0m\n",
            "\u001b[0;31mFileNotFoundError\u001b[0m: [Errno 2] File b'/content/PL.csv' does not exist: b'/content/PL.csv'"
          ]
        }
      ]
    },
    {
      "cell_type": "markdown",
      "metadata": {
        "id": "GCyu8xXiqgLC",
        "colab_type": "text"
      },
      "source": [
        "# XBRLデータの読み込み"
      ]
    },
    {
      "cell_type": "markdown",
      "metadata": {
        "id": "zcg6jnzyqtFx",
        "colab_type": "text"
      },
      "source": [
        "## 四半期毎の売り上げデータを抜き出し"
      ]
    },
    {
      "cell_type": "code",
      "metadata": {
        "id": "cGwnxpu4HPOU",
        "colab_type": "code",
        "outputId": "7e12fe93-d773-4b97-a241-2ca12fb57438",
        "colab": {
          "base_uri": "https://localhost:8080/",
          "height": 173
        }
      },
      "source": [
        "df1.loc[:,['SALES_q']].tail(3)"
      ],
      "execution_count": 0,
      "outputs": [
        {
          "output_type": "execute_result",
          "data": {
            "text/html": [
              "<div>\n",
              "<style scoped>\n",
              "    .dataframe tbody tr th:only-of-type {\n",
              "        vertical-align: middle;\n",
              "    }\n",
              "\n",
              "    .dataframe tbody tr th {\n",
              "        vertical-align: top;\n",
              "    }\n",
              "\n",
              "    .dataframe thead th {\n",
              "        text-align: right;\n",
              "    }\n",
              "</style>\n",
              "<table border=\"1\" class=\"dataframe\">\n",
              "  <thead>\n",
              "    <tr style=\"text-align: right;\">\n",
              "      <th></th>\n",
              "      <th>SALES_q</th>\n",
              "    </tr>\n",
              "    <tr>\n",
              "      <th>date</th>\n",
              "      <th></th>\n",
              "    </tr>\n",
              "  </thead>\n",
              "  <tbody>\n",
              "    <tr>\n",
              "      <th>2018-09-30 00:00:00</th>\n",
              "      <td>4.038442e+09</td>\n",
              "    </tr>\n",
              "    <tr>\n",
              "      <th>2018-12-31 00:00:00</th>\n",
              "      <td>3.431718e+09</td>\n",
              "    </tr>\n",
              "    <tr>\n",
              "      <th>2019-03-31 00:00:00</th>\n",
              "      <td>3.487407e+09</td>\n",
              "    </tr>\n",
              "  </tbody>\n",
              "</table>\n",
              "</div>"
            ],
            "text/plain": [
              "                          SALES_q\n",
              "date                             \n",
              "2018-09-30 00:00:00  4.038442e+09\n",
              "2018-12-31 00:00:00  3.431718e+09\n",
              "2019-03-31 00:00:00  3.487407e+09"
            ]
          },
          "metadata": {
            "tags": []
          },
          "execution_count": 9
        }
      ]
    },
    {
      "cell_type": "markdown",
      "metadata": {
        "id": "60uySpv1KFGd",
        "colab_type": "text"
      },
      "source": [
        "## インデックスを時間の型に変換"
      ]
    },
    {
      "cell_type": "code",
      "metadata": {
        "id": "LKZ-Jy8pKD6x",
        "colab_type": "code",
        "outputId": "668ae7b8-0778-4cc9-a9c3-c67055e5d870",
        "colab": {
          "base_uri": "https://localhost:8080/",
          "height": 85
        }
      },
      "source": [
        "time1=pd.to_datetime(df1.index)\n",
        "time1"
      ],
      "execution_count": 0,
      "outputs": [
        {
          "output_type": "execute_result",
          "data": {
            "text/plain": [
              "DatetimeIndex(['2016-06-30', '2016-09-30', '2016-12-31', '2017-03-31',\n",
              "               '2017-06-30', '2017-09-30', '2017-12-31', '2018-03-31',\n",
              "               '2018-06-30', '2018-09-30', '2018-12-31', '2019-03-31'],\n",
              "              dtype='datetime64[ns]', name='date', freq=None)"
            ]
          },
          "metadata": {
            "tags": []
          },
          "execution_count": 10
        }
      ]
    },
    {
      "cell_type": "markdown",
      "metadata": {
        "id": "alJAD5ULKcPg",
        "colab_type": "text"
      },
      "source": [
        "## 時間型に変換したインデックスを挿入"
      ]
    },
    {
      "cell_type": "code",
      "metadata": {
        "id": "CJbek4haKbKQ",
        "colab_type": "code",
        "colab": {}
      },
      "source": [
        "df1.index= time1"
      ],
      "execution_count": 0,
      "outputs": []
    },
    {
      "cell_type": "code",
      "metadata": {
        "id": "IbC4a7BcJ5kW",
        "colab_type": "code",
        "outputId": "ea1f1875-8fcc-4a14-e464-25182ec41517",
        "colab": {
          "base_uri": "https://localhost:8080/",
          "height": 85
        }
      },
      "source": [
        "df1.index"
      ],
      "execution_count": 0,
      "outputs": [
        {
          "output_type": "execute_result",
          "data": {
            "text/plain": [
              "DatetimeIndex(['2016-06-30', '2016-09-30', '2016-12-31', '2017-03-31',\n",
              "               '2017-06-30', '2017-09-30', '2017-12-31', '2018-03-31',\n",
              "               '2018-06-30', '2018-09-30', '2018-12-31', '2019-03-31'],\n",
              "              dtype='datetime64[ns]', name='date', freq=None)"
            ]
          },
          "metadata": {
            "tags": []
          },
          "execution_count": 66
        }
      ]
    },
    {
      "cell_type": "markdown",
      "metadata": {
        "id": "h_D6XHHTtQJE",
        "colab_type": "text"
      },
      "source": [
        "# 株価データの読み込み"
      ]
    },
    {
      "cell_type": "code",
      "metadata": {
        "id": "2_rly45nIUo0",
        "colab_type": "code",
        "outputId": "34d138a1-4e5b-4217-9fa5-90a299897d28",
        "colab": {
          "base_uri": "https://localhost:8080/",
          "height": 34
        }
      },
      "source": [
        "df_2018 = pd.read_csv('/content/2931_2018.csv', header=1, index_col=['日付'], encoding='shift_jis')\n",
        "\n",
        "df_2018.columns"
      ],
      "execution_count": 0,
      "outputs": [
        {
          "output_type": "execute_result",
          "data": {
            "text/plain": [
              "Index(['始値', '高値', '安値', '終値', '出来高', '終値調整値'], dtype='object')"
            ]
          },
          "metadata": {
            "tags": []
          },
          "execution_count": 14
        }
      ]
    },
    {
      "cell_type": "markdown",
      "metadata": {
        "id": "hq5ZaN5sI8qT",
        "colab_type": "text"
      },
      "source": [
        "## データフレームの結合"
      ]
    },
    {
      "cell_type": "code",
      "metadata": {
        "id": "jAESMAdcJE8-",
        "colab_type": "code",
        "outputId": "def190d9-ab77-4602-9a97-a625b9b95e83",
        "colab": {
          "base_uri": "https://localhost:8080/",
          "height": 173
        }
      },
      "source": [
        "df_2019 = pd.read_csv('/content/2931_2019.csv', header=1, index_col=['日付'], encoding='shift_jis')\n",
        "df_2017 = pd.read_csv('/content/2931_2017.csv', header=1, index_col=['日付'], encoding='shift_jis')\n",
        "df_2016 = pd.read_csv('/content/2931_2016.csv', header=1, index_col=['日付'], encoding='shift_jis')\n",
        "\n",
        "\n",
        "df=pd.concat([df_2016,df_2017,df_2018,df_2019],axis = 0)\n",
        "\n",
        "df.head(3)"
      ],
      "execution_count": 0,
      "outputs": [
        {
          "output_type": "execute_result",
          "data": {
            "text/html": [
              "<div>\n",
              "<style scoped>\n",
              "    .dataframe tbody tr th:only-of-type {\n",
              "        vertical-align: middle;\n",
              "    }\n",
              "\n",
              "    .dataframe tbody tr th {\n",
              "        vertical-align: top;\n",
              "    }\n",
              "\n",
              "    .dataframe thead th {\n",
              "        text-align: right;\n",
              "    }\n",
              "</style>\n",
              "<table border=\"1\" class=\"dataframe\">\n",
              "  <thead>\n",
              "    <tr style=\"text-align: right;\">\n",
              "      <th></th>\n",
              "      <th>始値</th>\n",
              "      <th>高値</th>\n",
              "      <th>安値</th>\n",
              "      <th>終値</th>\n",
              "      <th>出来高</th>\n",
              "      <th>終値調整値</th>\n",
              "    </tr>\n",
              "    <tr>\n",
              "      <th>日付</th>\n",
              "      <th></th>\n",
              "      <th></th>\n",
              "      <th></th>\n",
              "      <th></th>\n",
              "      <th></th>\n",
              "      <th></th>\n",
              "    </tr>\n",
              "  </thead>\n",
              "  <tbody>\n",
              "    <tr>\n",
              "      <th>2016-01-04</th>\n",
              "      <td>1816</td>\n",
              "      <td>1830</td>\n",
              "      <td>1780</td>\n",
              "      <td>1781</td>\n",
              "      <td>719200</td>\n",
              "      <td>1781</td>\n",
              "    </tr>\n",
              "    <tr>\n",
              "      <th>2016-01-05</th>\n",
              "      <td>1779</td>\n",
              "      <td>1800</td>\n",
              "      <td>1751</td>\n",
              "      <td>1778</td>\n",
              "      <td>591800</td>\n",
              "      <td>1778</td>\n",
              "    </tr>\n",
              "    <tr>\n",
              "      <th>2016-01-06</th>\n",
              "      <td>1792</td>\n",
              "      <td>1810</td>\n",
              "      <td>1773</td>\n",
              "      <td>1785</td>\n",
              "      <td>712700</td>\n",
              "      <td>1785</td>\n",
              "    </tr>\n",
              "  </tbody>\n",
              "</table>\n",
              "</div>"
            ],
            "text/plain": [
              "              始値    高値    安値    終値     出来高  終値調整値\n",
              "日付                                               \n",
              "2016-01-04  1816  1830  1780  1781  719200   1781\n",
              "2016-01-05  1779  1800  1751  1778  591800   1778\n",
              "2016-01-06  1792  1810  1773  1785  712700   1785"
            ]
          },
          "metadata": {
            "tags": []
          },
          "execution_count": 71
        }
      ]
    },
    {
      "cell_type": "markdown",
      "metadata": {
        "id": "m503u6-0oziR",
        "colab_type": "text"
      },
      "source": [
        "## インデックスを時間の型に変換"
      ]
    },
    {
      "cell_type": "code",
      "metadata": {
        "id": "oNdNG0JdoMTz",
        "colab_type": "code",
        "outputId": "e830bead-4ecb-41bc-c0dd-e4a1f00d44b0",
        "colab": {
          "base_uri": "https://localhost:8080/",
          "height": 153
        }
      },
      "source": [
        "time = pd.to_datetime(df.index)\n",
        "time"
      ],
      "execution_count": 0,
      "outputs": [
        {
          "output_type": "execute_result",
          "data": {
            "text/plain": [
              "DatetimeIndex(['2016-01-04', '2016-01-05', '2016-01-06', '2016-01-07',\n",
              "               '2016-01-08', '2016-01-12', '2016-01-13', '2016-01-14',\n",
              "               '2016-01-15', '2016-01-18',\n",
              "               ...\n",
              "               '2019-07-01', '2019-07-02', '2019-07-03', '2019-07-04',\n",
              "               '2019-07-05', '2019-07-08', '2019-07-09', '2019-07-10',\n",
              "               '2019-07-11', '2019-07-12'],\n",
              "              dtype='datetime64[ns]', name='日付', length=861, freq=None)"
            ]
          },
          "metadata": {
            "tags": []
          },
          "execution_count": 72
        }
      ]
    },
    {
      "cell_type": "markdown",
      "metadata": {
        "id": "VI97ccvLuNQe",
        "colab_type": "text"
      },
      "source": [
        "## 時間型に変換したインデックスを挿入"
      ]
    },
    {
      "cell_type": "code",
      "metadata": {
        "id": "Txsnas0Nocpk",
        "colab_type": "code",
        "outputId": "fc1c3ffc-748f-443f-e8c9-e20524fb5327",
        "colab": {
          "base_uri": "https://localhost:8080/",
          "height": 173
        }
      },
      "source": [
        "df.index=time\n",
        "df.head(3)"
      ],
      "execution_count": 0,
      "outputs": [
        {
          "output_type": "execute_result",
          "data": {
            "text/html": [
              "<div>\n",
              "<style scoped>\n",
              "    .dataframe tbody tr th:only-of-type {\n",
              "        vertical-align: middle;\n",
              "    }\n",
              "\n",
              "    .dataframe tbody tr th {\n",
              "        vertical-align: top;\n",
              "    }\n",
              "\n",
              "    .dataframe thead th {\n",
              "        text-align: right;\n",
              "    }\n",
              "</style>\n",
              "<table border=\"1\" class=\"dataframe\">\n",
              "  <thead>\n",
              "    <tr style=\"text-align: right;\">\n",
              "      <th></th>\n",
              "      <th>始値</th>\n",
              "      <th>高値</th>\n",
              "      <th>安値</th>\n",
              "      <th>終値</th>\n",
              "      <th>出来高</th>\n",
              "      <th>終値調整値</th>\n",
              "    </tr>\n",
              "    <tr>\n",
              "      <th>日付</th>\n",
              "      <th></th>\n",
              "      <th></th>\n",
              "      <th></th>\n",
              "      <th></th>\n",
              "      <th></th>\n",
              "      <th></th>\n",
              "    </tr>\n",
              "  </thead>\n",
              "  <tbody>\n",
              "    <tr>\n",
              "      <th>2016-01-04</th>\n",
              "      <td>1816</td>\n",
              "      <td>1830</td>\n",
              "      <td>1780</td>\n",
              "      <td>1781</td>\n",
              "      <td>719200</td>\n",
              "      <td>1781</td>\n",
              "    </tr>\n",
              "    <tr>\n",
              "      <th>2016-01-05</th>\n",
              "      <td>1779</td>\n",
              "      <td>1800</td>\n",
              "      <td>1751</td>\n",
              "      <td>1778</td>\n",
              "      <td>591800</td>\n",
              "      <td>1778</td>\n",
              "    </tr>\n",
              "    <tr>\n",
              "      <th>2016-01-06</th>\n",
              "      <td>1792</td>\n",
              "      <td>1810</td>\n",
              "      <td>1773</td>\n",
              "      <td>1785</td>\n",
              "      <td>712700</td>\n",
              "      <td>1785</td>\n",
              "    </tr>\n",
              "  </tbody>\n",
              "</table>\n",
              "</div>"
            ],
            "text/plain": [
              "              始値    高値    安値    終値     出来高  終値調整値\n",
              "日付                                               \n",
              "2016-01-04  1816  1830  1780  1781  719200   1781\n",
              "2016-01-05  1779  1800  1751  1778  591800   1778\n",
              "2016-01-06  1792  1810  1773  1785  712700   1785"
            ]
          },
          "metadata": {
            "tags": []
          },
          "execution_count": 73
        }
      ]
    },
    {
      "cell_type": "code",
      "metadata": {
        "id": "63GN0V8yooL9",
        "colab_type": "code",
        "outputId": "2265a7f1-c00a-4421-f7aa-bf97d74f5e1f",
        "colab": {
          "base_uri": "https://localhost:8080/",
          "height": 153
        }
      },
      "source": [
        "df_2018.index"
      ],
      "execution_count": 0,
      "outputs": [
        {
          "output_type": "execute_result",
          "data": {
            "text/plain": [
              "DatetimeIndex(['2018-01-04', '2018-01-05', '2018-01-09', '2018-01-10',\n",
              "               '2018-01-11', '2018-01-12', '2018-01-15', '2018-01-16',\n",
              "               '2018-01-17', '2018-01-18',\n",
              "               ...\n",
              "               '2018-12-14', '2018-12-17', '2018-12-18', '2018-12-19',\n",
              "               '2018-12-20', '2018-12-21', '2018-12-25', '2018-12-26',\n",
              "               '2018-12-27', '2018-12-28'],\n",
              "              dtype='datetime64[ns]', name='日付', length=245, freq=None)"
            ]
          },
          "metadata": {
            "tags": []
          },
          "execution_count": 74
        }
      ]
    },
    {
      "cell_type": "markdown",
      "metadata": {
        "id": "aouOV0yZHkUs",
        "colab_type": "text"
      },
      "source": [
        "## 株価をグラフ化"
      ]
    },
    {
      "cell_type": "code",
      "metadata": {
        "id": "fCFFz3IVug3J",
        "colab_type": "code",
        "outputId": "f584eac0-ea50-48f4-dd9c-c815ccaaed2f",
        "colab": {
          "base_uri": "https://localhost:8080/",
          "height": 323
        }
      },
      "source": [
        "fig, ax = plt.subplots(figsize=(10, 5))\n",
        "\n",
        "plt.plot(df.index,df['終値'],c='red')\n",
        "\n",
        "ax.xaxis.set_major_formatter(mdates.DateFormatter('%y/%m'))"
      ],
      "execution_count": 0,
      "outputs": [
        {
          "output_type": "display_data",
          "data": {
            "image/png": "[encoded data removed]",
            "text/plain": [
              "<Figure size 720x360 with 1 Axes>"
            ]
          },
          "metadata": {
            "tags": []
          }
        }
      ]
    },
    {
      "cell_type": "markdown",
      "metadata": {
        "id": "GqEwJJ7DHyBc",
        "colab_type": "text"
      },
      "source": [
        "## 四半期の売上をグラフ化"
      ]
    },
    {
      "cell_type": "code",
      "metadata": {
        "id": "24ea4dZUHjAU",
        "colab_type": "code",
        "outputId": "6b670d27-770e-4e38-a31f-570a19b9212e",
        "colab": {
          "base_uri": "https://localhost:8080/",
          "height": 293
        }
      },
      "source": [
        "plt.scatter(df1.index,df1['SALES_q'])"
      ],
      "execution_count": 0,
      "outputs": [
        {
          "output_type": "execute_result",
          "data": {
            "text/plain": [
              "<matplotlib.collections.PathCollection at 0x7fd419f574e0>"
            ]
          },
          "metadata": {
            "tags": []
          },
          "execution_count": 76
        },
        {
          "output_type": "display_data",
          "data": {
            "image/png": "[encoded data removed]",
            "text/plain": [
              "<Figure size 432x288 with 1 Axes>"
            ]
          },
          "metadata": {
            "tags": []
          }
        }
      ]
    },
    {
      "cell_type": "markdown",
      "metadata": {
        "id": "Jyq6mSPaIN1F",
        "colab_type": "text"
      },
      "source": [
        "## 株価と四半期の売上を同じグラフでグラフ化"
      ]
    },
    {
      "cell_type": "code",
      "metadata": {
        "id": "nGcnBeyiIWz6",
        "colab_type": "code",
        "outputId": "b76b3095-7af8-417b-b804-2dc93b30f58d",
        "colab": {
          "base_uri": "https://localhost:8080/",
          "height": 331
        }
      },
      "source": [
        "\n",
        "fig, ax1 = plt.subplots(figsize=(20, 5))\n",
        "\n",
        "ax1.plot(df1.index,df1['SALES_q'],c='black')\n",
        "ax1.plot(df1.index,df1['OperatingIncome_q'],c='blue')\n",
        "\n",
        "\n",
        "ax2 = ax1.twinx()  \n",
        "\n",
        "ax2.plot(df.index, df['終値'],c='red')\n",
        "\n",
        "ax2.xaxis.set_major_formatter(mdates.DateFormatter('%y/%m'))\n"
      ],
      "execution_count": 0,
      "outputs": [
        {
          "output_type": "display_data",
          "data": {
            "image/png": "[encoded data removed]",
            "text/plain": [
              "<Figure size 1440x360 with 2 Axes>"
            ]
          },
          "metadata": {
            "tags": []
          }
        }
      ]
    },
    {
      "cell_type": "markdown",
      "metadata": {
        "id": "bNXlafgbQPF5",
        "colab_type": "text"
      },
      "source": [
        "## データフレームdfとdf1を結合する"
      ]
    },
    {
      "cell_type": "code",
      "metadata": {
        "id": "xvqhwxC5Iqwx",
        "colab_type": "code",
        "outputId": "59f44c3a-20d5-43d2-d38a-f8bdbfc38666",
        "colab": {
          "base_uri": "https://localhost:8080/",
          "height": 230
        }
      },
      "source": [
        "df3= pd.concat([df,df1],axis=0,sort=False)\n",
        "df3.head(3)"
      ],
      "execution_count": 0,
      "outputs": [
        {
          "output_type": "execute_result",
          "data": {
            "text/html": [
              "<div>\n",
              "<style scoped>\n",
              "    .dataframe tbody tr th:only-of-type {\n",
              "        vertical-align: middle;\n",
              "    }\n",
              "\n",
              "    .dataframe tbody tr th {\n",
              "        vertical-align: top;\n",
              "    }\n",
              "\n",
              "    .dataframe thead th {\n",
              "        text-align: right;\n",
              "    }\n",
              "</style>\n",
              "<table border=\"1\" class=\"dataframe\">\n",
              "  <thead>\n",
              "    <tr style=\"text-align: right;\">\n",
              "      <th></th>\n",
              "      <th>始値</th>\n",
              "      <th>高値</th>\n",
              "      <th>安値</th>\n",
              "      <th>終値</th>\n",
              "      <th>出来高</th>\n",
              "      <th>終値調整値</th>\n",
              "      <th>Unnamed: 0</th>\n",
              "      <th>Quater</th>\n",
              "      <th>company_name</th>\n",
              "      <th>SALES_q</th>\n",
              "      <th>OperatingIncome_q</th>\n",
              "      <th>OrdinaryIncome_q</th>\n",
              "      <th>NetIncome_q</th>\n",
              "      <th>SALES</th>\n",
              "      <th>OperatingIncome</th>\n",
              "      <th>OrdinaryIncome</th>\n",
              "      <th>NetIncome</th>\n",
              "    </tr>\n",
              "  </thead>\n",
              "  <tbody>\n",
              "    <tr>\n",
              "      <th>2016-01-04</th>\n",
              "      <td>1816.0</td>\n",
              "      <td>1830.0</td>\n",
              "      <td>1780.0</td>\n",
              "      <td>1781.0</td>\n",
              "      <td>719200.0</td>\n",
              "      <td>1781.0</td>\n",
              "      <td>NaN</td>\n",
              "      <td>NaN</td>\n",
              "      <td>NaN</td>\n",
              "      <td>NaN</td>\n",
              "      <td>NaN</td>\n",
              "      <td>NaN</td>\n",
              "      <td>NaN</td>\n",
              "      <td>NaN</td>\n",
              "      <td>NaN</td>\n",
              "      <td>NaN</td>\n",
              "      <td>NaN</td>\n",
              "    </tr>\n",
              "    <tr>\n",
              "      <th>2016-01-05</th>\n",
              "      <td>1779.0</td>\n",
              "      <td>1800.0</td>\n",
              "      <td>1751.0</td>\n",
              "      <td>1778.0</td>\n",
              "      <td>591800.0</td>\n",
              "      <td>1778.0</td>\n",
              "      <td>NaN</td>\n",
              "      <td>NaN</td>\n",
              "      <td>NaN</td>\n",
              "      <td>NaN</td>\n",
              "      <td>NaN</td>\n",
              "      <td>NaN</td>\n",
              "      <td>NaN</td>\n",
              "      <td>NaN</td>\n",
              "      <td>NaN</td>\n",
              "      <td>NaN</td>\n",
              "      <td>NaN</td>\n",
              "    </tr>\n",
              "    <tr>\n",
              "      <th>2016-01-06</th>\n",
              "      <td>1792.0</td>\n",
              "      <td>1810.0</td>\n",
              "      <td>1773.0</td>\n",
              "      <td>1785.0</td>\n",
              "      <td>712700.0</td>\n",
              "      <td>1785.0</td>\n",
              "      <td>NaN</td>\n",
              "      <td>NaN</td>\n",
              "      <td>NaN</td>\n",
              "      <td>NaN</td>\n",
              "      <td>NaN</td>\n",
              "      <td>NaN</td>\n",
              "      <td>NaN</td>\n",
              "      <td>NaN</td>\n",
              "      <td>NaN</td>\n",
              "      <td>NaN</td>\n",
              "      <td>NaN</td>\n",
              "    </tr>\n",
              "  </tbody>\n",
              "</table>\n",
              "</div>"
            ],
            "text/plain": [
              "                始値      高値      安値  ...  OperatingIncome  OrdinaryIncome  NetIncome\n",
              "2016-01-04  1816.0  1830.0  1780.0  ...              NaN             NaN        NaN\n",
              "2016-01-05  1779.0  1800.0  1751.0  ...              NaN             NaN        NaN\n",
              "2016-01-06  1792.0  1810.0  1773.0  ...              NaN             NaN        NaN\n",
              "\n",
              "[3 rows x 17 columns]"
            ]
          },
          "metadata": {
            "tags": []
          },
          "execution_count": 104
        }
      ]
    },
    {
      "cell_type": "markdown",
      "metadata": {
        "id": "3UFIYHh9RFtk",
        "colab_type": "text"
      },
      "source": [
        "## df3の形"
      ]
    },
    {
      "cell_type": "code",
      "metadata": {
        "id": "Tcxd71VURJ4l",
        "colab_type": "code",
        "outputId": "a64ab54c-1be3-4852-cdf6-ce9a12987f4c",
        "colab": {
          "base_uri": "https://localhost:8080/",
          "height": 34
        }
      },
      "source": [
        "df3.shape"
      ],
      "execution_count": 0,
      "outputs": [
        {
          "output_type": "execute_result",
          "data": {
            "text/plain": [
              "(873, 17)"
            ]
          },
          "metadata": {
            "tags": []
          },
          "execution_count": 102
        }
      ]
    },
    {
      "cell_type": "markdown",
      "metadata": {
        "id": "dNnMyCKjT8Dv",
        "colab_type": "text"
      },
      "source": [
        "補完"
      ]
    },
    {
      "cell_type": "code",
      "metadata": {
        "id": "s1cCndpnT66Y",
        "colab_type": "code",
        "outputId": "8d8c8451-1638-4c4f-848f-f232ef73b922",
        "colab": {
          "base_uri": "https://localhost:8080/",
          "height": 204
        }
      },
      "source": [
        "df4=df3.resample('D').mean()\n",
        "df4.head()"
      ],
      "execution_count": 0,
      "outputs": [
        {
          "output_type": "execute_result",
          "data": {
            "text/html": [
              "<div>\n",
              "<style scoped>\n",
              "    .dataframe tbody tr th:only-of-type {\n",
              "        vertical-align: middle;\n",
              "    }\n",
              "\n",
              "    .dataframe tbody tr th {\n",
              "        vertical-align: top;\n",
              "    }\n",
              "\n",
              "    .dataframe thead th {\n",
              "        text-align: right;\n",
              "    }\n",
              "</style>\n",
              "<table border=\"1\" class=\"dataframe\">\n",
              "  <thead>\n",
              "    <tr style=\"text-align: right;\">\n",
              "      <th></th>\n",
              "      <th>始値</th>\n",
              "      <th>高値</th>\n",
              "      <th>安値</th>\n",
              "      <th>終値</th>\n",
              "      <th>出来高</th>\n",
              "      <th>終値調整値</th>\n",
              "      <th>SALES_q</th>\n",
              "      <th>OperatingIncome_q</th>\n",
              "      <th>OrdinaryIncome_q</th>\n",
              "      <th>NetIncome_q</th>\n",
              "      <th>SALES</th>\n",
              "      <th>OperatingIncome</th>\n",
              "      <th>OrdinaryIncome</th>\n",
              "      <th>NetIncome</th>\n",
              "    </tr>\n",
              "  </thead>\n",
              "  <tbody>\n",
              "    <tr>\n",
              "      <th>2016-01-04</th>\n",
              "      <td>1816.0</td>\n",
              "      <td>1830.0</td>\n",
              "      <td>1780.0</td>\n",
              "      <td>1781.0</td>\n",
              "      <td>719200.0</td>\n",
              "      <td>1781.0</td>\n",
              "      <td>NaN</td>\n",
              "      <td>NaN</td>\n",
              "      <td>NaN</td>\n",
              "      <td>NaN</td>\n",
              "      <td>NaN</td>\n",
              "      <td>NaN</td>\n",
              "      <td>NaN</td>\n",
              "      <td>NaN</td>\n",
              "    </tr>\n",
              "    <tr>\n",
              "      <th>2016-01-05</th>\n",
              "      <td>1779.0</td>\n",
              "      <td>1800.0</td>\n",
              "      <td>1751.0</td>\n",
              "      <td>1778.0</td>\n",
              "      <td>591800.0</td>\n",
              "      <td>1778.0</td>\n",
              "      <td>NaN</td>\n",
              "      <td>NaN</td>\n",
              "      <td>NaN</td>\n",
              "      <td>NaN</td>\n",
              "      <td>NaN</td>\n",
              "      <td>NaN</td>\n",
              "      <td>NaN</td>\n",
              "      <td>NaN</td>\n",
              "    </tr>\n",
              "    <tr>\n",
              "      <th>2016-01-06</th>\n",
              "      <td>1792.0</td>\n",
              "      <td>1810.0</td>\n",
              "      <td>1773.0</td>\n",
              "      <td>1785.0</td>\n",
              "      <td>712700.0</td>\n",
              "      <td>1785.0</td>\n",
              "      <td>NaN</td>\n",
              "      <td>NaN</td>\n",
              "      <td>NaN</td>\n",
              "      <td>NaN</td>\n",
              "      <td>NaN</td>\n",
              "      <td>NaN</td>\n",
              "      <td>NaN</td>\n",
              "      <td>NaN</td>\n",
              "    </tr>\n",
              "    <tr>\n",
              "      <th>2016-01-07</th>\n",
              "      <td>1785.0</td>\n",
              "      <td>1800.0</td>\n",
              "      <td>1761.0</td>\n",
              "      <td>1763.0</td>\n",
              "      <td>668000.0</td>\n",
              "      <td>1763.0</td>\n",
              "      <td>NaN</td>\n",
              "      <td>NaN</td>\n",
              "      <td>NaN</td>\n",
              "      <td>NaN</td>\n",
              "      <td>NaN</td>\n",
              "      <td>NaN</td>\n",
              "      <td>NaN</td>\n",
              "      <td>NaN</td>\n",
              "    </tr>\n",
              "    <tr>\n",
              "      <th>2016-01-08</th>\n",
              "      <td>1750.0</td>\n",
              "      <td>1760.0</td>\n",
              "      <td>1717.0</td>\n",
              "      <td>1724.0</td>\n",
              "      <td>930200.0</td>\n",
              "      <td>1724.0</td>\n",
              "      <td>NaN</td>\n",
              "      <td>NaN</td>\n",
              "      <td>NaN</td>\n",
              "      <td>NaN</td>\n",
              "      <td>NaN</td>\n",
              "      <td>NaN</td>\n",
              "      <td>NaN</td>\n",
              "      <td>NaN</td>\n",
              "    </tr>\n",
              "  </tbody>\n",
              "</table>\n",
              "</div>"
            ],
            "text/plain": [
              "                始値      高値      安値  ...  OperatingIncome  OrdinaryIncome  NetIncome\n",
              "2016-01-04  1816.0  1830.0  1780.0  ...              NaN             NaN        NaN\n",
              "2016-01-05  1779.0  1800.0  1751.0  ...              NaN             NaN        NaN\n",
              "2016-01-06  1792.0  1810.0  1773.0  ...              NaN             NaN        NaN\n",
              "2016-01-07  1785.0  1800.0  1761.0  ...              NaN             NaN        NaN\n",
              "2016-01-08  1750.0  1760.0  1717.0  ...              NaN             NaN        NaN\n",
              "\n",
              "[5 rows x 14 columns]"
            ]
          },
          "metadata": {
            "tags": []
          },
          "execution_count": 138
        }
      ]
    },
    {
      "cell_type": "markdown",
      "metadata": {
        "id": "Y528V2XXXctt",
        "colab_type": "text"
      },
      "source": [
        "## 線形補完"
      ]
    },
    {
      "cell_type": "code",
      "metadata": {
        "id": "YihUg2M4XfqO",
        "colab_type": "code",
        "outputId": "a057358a-307e-48a1-df98-12fcb569262d",
        "colab": {
          "base_uri": "https://localhost:8080/",
          "height": 142
        }
      },
      "source": [
        "df5=df4.interpolate()\n",
        "df5.head(3)"
      ],
      "execution_count": 0,
      "outputs": [
        {
          "output_type": "execute_result",
          "data": {
            "text/html": [
              "<div>\n",
              "<style scoped>\n",
              "    .dataframe tbody tr th:only-of-type {\n",
              "        vertical-align: middle;\n",
              "    }\n",
              "\n",
              "    .dataframe tbody tr th {\n",
              "        vertical-align: top;\n",
              "    }\n",
              "\n",
              "    .dataframe thead th {\n",
              "        text-align: right;\n",
              "    }\n",
              "</style>\n",
              "<table border=\"1\" class=\"dataframe\">\n",
              "  <thead>\n",
              "    <tr style=\"text-align: right;\">\n",
              "      <th></th>\n",
              "      <th>始値</th>\n",
              "      <th>高値</th>\n",
              "      <th>安値</th>\n",
              "      <th>終値</th>\n",
              "      <th>出来高</th>\n",
              "      <th>終値調整値</th>\n",
              "      <th>SALES_q</th>\n",
              "      <th>OperatingIncome_q</th>\n",
              "      <th>OrdinaryIncome_q</th>\n",
              "      <th>NetIncome_q</th>\n",
              "      <th>SALES</th>\n",
              "      <th>OperatingIncome</th>\n",
              "      <th>OrdinaryIncome</th>\n",
              "      <th>NetIncome</th>\n",
              "    </tr>\n",
              "  </thead>\n",
              "  <tbody>\n",
              "    <tr>\n",
              "      <th>2016-01-04</th>\n",
              "      <td>1816.0</td>\n",
              "      <td>1830.0</td>\n",
              "      <td>1780.0</td>\n",
              "      <td>1781.0</td>\n",
              "      <td>719200.0</td>\n",
              "      <td>1781.0</td>\n",
              "      <td>NaN</td>\n",
              "      <td>NaN</td>\n",
              "      <td>NaN</td>\n",
              "      <td>NaN</td>\n",
              "      <td>NaN</td>\n",
              "      <td>NaN</td>\n",
              "      <td>NaN</td>\n",
              "      <td>NaN</td>\n",
              "    </tr>\n",
              "    <tr>\n",
              "      <th>2016-01-05</th>\n",
              "      <td>1779.0</td>\n",
              "      <td>1800.0</td>\n",
              "      <td>1751.0</td>\n",
              "      <td>1778.0</td>\n",
              "      <td>591800.0</td>\n",
              "      <td>1778.0</td>\n",
              "      <td>NaN</td>\n",
              "      <td>NaN</td>\n",
              "      <td>NaN</td>\n",
              "      <td>NaN</td>\n",
              "      <td>NaN</td>\n",
              "      <td>NaN</td>\n",
              "      <td>NaN</td>\n",
              "      <td>NaN</td>\n",
              "    </tr>\n",
              "    <tr>\n",
              "      <th>2016-01-06</th>\n",
              "      <td>1792.0</td>\n",
              "      <td>1810.0</td>\n",
              "      <td>1773.0</td>\n",
              "      <td>1785.0</td>\n",
              "      <td>712700.0</td>\n",
              "      <td>1785.0</td>\n",
              "      <td>NaN</td>\n",
              "      <td>NaN</td>\n",
              "      <td>NaN</td>\n",
              "      <td>NaN</td>\n",
              "      <td>NaN</td>\n",
              "      <td>NaN</td>\n",
              "      <td>NaN</td>\n",
              "      <td>NaN</td>\n",
              "    </tr>\n",
              "  </tbody>\n",
              "</table>\n",
              "</div>"
            ],
            "text/plain": [
              "                始値      高値      安値  ...  OperatingIncome  OrdinaryIncome  NetIncome\n",
              "2016-01-04  1816.0  1830.0  1780.0  ...              NaN             NaN        NaN\n",
              "2016-01-05  1779.0  1800.0  1751.0  ...              NaN             NaN        NaN\n",
              "2016-01-06  1792.0  1810.0  1773.0  ...              NaN             NaN        NaN\n",
              "\n",
              "[3 rows x 14 columns]"
            ]
          },
          "metadata": {
            "tags": []
          },
          "execution_count": 141
        }
      ]
    },
    {
      "cell_type": "markdown",
      "metadata": {
        "id": "gwfzPbXqRfu0",
        "colab_type": "text"
      },
      "source": [
        "## 表示"
      ]
    },
    {
      "cell_type": "code",
      "metadata": {
        "id": "LZjWIpBFRhjM",
        "colab_type": "code",
        "outputId": "ece8a4e2-361f-4705-d2fa-aa97b3493c98",
        "colab": {
          "base_uri": "https://localhost:8080/",
          "height": 85
        }
      },
      "source": [
        "df5['SALES_q'] .head(3)"
      ],
      "execution_count": 0,
      "outputs": [
        {
          "output_type": "execute_result",
          "data": {
            "text/plain": [
              "2016-01-04   NaN\n",
              "2016-01-05   NaN\n",
              "2016-01-06   NaN\n",
              "Freq: D, Name: SALES_q, dtype: float64"
            ]
          },
          "metadata": {
            "tags": []
          },
          "execution_count": 142
        }
      ]
    },
    {
      "cell_type": "code",
      "metadata": {
        "id": "L3Nd1t0WRxB2",
        "colab_type": "code",
        "outputId": "7f086c1f-ae94-4007-ea13-cf47d800ec3e",
        "colab": {
          "base_uri": "https://localhost:8080/",
          "height": 85
        }
      },
      "source": [
        "df5['終値'].head(3)"
      ],
      "execution_count": 0,
      "outputs": [
        {
          "output_type": "execute_result",
          "data": {
            "text/plain": [
              "2016-01-04    1781.0\n",
              "2016-01-05    1778.0\n",
              "2016-01-06    1785.0\n",
              "Freq: D, Name: 終値, dtype: float64"
            ]
          },
          "metadata": {
            "tags": []
          },
          "execution_count": 143
        }
      ]
    },
    {
      "cell_type": "markdown",
      "metadata": {
        "id": "CIHDvQFvRNnx",
        "colab_type": "text"
      },
      "source": [
        "## グラフ化"
      ]
    },
    {
      "cell_type": "code",
      "metadata": {
        "id": "jkH2UKVXRP2R",
        "colab_type": "code",
        "outputId": "06908888-cfcd-4d19-e125-0c9a65a22a85",
        "colab": {
          "base_uri": "https://localhost:8080/",
          "height": 299
        }
      },
      "source": [
        "plt.scatter(df5['SALES_q'],df4['終値'])\n",
        "#plt.ylim(0, 5000)\n",
        "#plt.xlim(0, 10000000000)"
      ],
      "execution_count": 0,
      "outputs": [
        {
          "output_type": "execute_result",
          "data": {
            "text/plain": [
              "<matplotlib.collections.PathCollection at 0x7fd41921f278>"
            ]
          },
          "metadata": {
            "tags": []
          },
          "execution_count": 145
        },
        {
          "output_type": "display_data",
          "data": {
            "image/png": "[encoded data removed]",
            "text/plain": [
              "<Figure size 432x288 with 1 Axes>"
            ]
          },
          "metadata": {
            "tags": []
          }
        }
      ]
    }
  ]
}